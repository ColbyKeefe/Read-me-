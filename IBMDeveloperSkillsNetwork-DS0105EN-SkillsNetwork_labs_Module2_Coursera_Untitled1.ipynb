{
  "metadata": {
    "language_info": {
      "codemirror_mode": {
        "name": "python",
        "version": 3
      },
      "file_extension": ".py",
      "mimetype": "text/x-python",
      "name": "python",
      "nbconvert_exporter": "python",
      "pygments_lexer": "ipython3",
      "version": "3.8"
    },
    "kernelspec": {
      "name": "python",
      "display_name": "Pyolite",
      "language": "python"
    }
  },
  "nbformat_minor": 4,
  "nbformat": 4,
  "cells": [
    {
      "cell_type": "markdown",
      "source": "# My Jupter Notebook on Skills Network Labs",
      "metadata": {}
    },
    {
      "cell_type": "markdown",
      "source": "__Colby Keefe, Currently as Student__",
      "metadata": {}
    },
    {
      "cell_type": "markdown",
      "source": "*I like to get information from data and make inferences from it*",
      "metadata": {}
    },
    {
      "cell_type": "markdown",
      "source": "### The following calculates 3 * 3",
      "metadata": {}
    },
    {
      "cell_type": "code",
      "source": "3 * 3",
      "metadata": {
        "trusted": true
      },
      "execution_count": 2,
      "outputs": [
        {
          "execution_count": 2,
          "output_type": "execute_result",
          "data": {
            "text/plain": "9"
          },
          "metadata": {}
        }
      ]
    },
    {
      "cell_type": "markdown",
      "source": "Markdown | looks | silly \n--- | --- | ---\nthis | is | cool\n9 | 9| 9",
      "metadata": {}
    },
    {
      "cell_type": "code",
      "source": "",
      "metadata": {},
      "execution_count": null,
      "outputs": []
    }
  ]
}